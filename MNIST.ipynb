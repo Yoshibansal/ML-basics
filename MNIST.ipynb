{
  "nbformat": 4,
  "nbformat_minor": 0,
  "metadata": {
    "colab": {
      "name": "MNIST.ipynb",
      "provenance": [],
      "collapsed_sections": [],
      "toc_visible": true,
      "authorship_tag": "ABX9TyPvnjtfB6MjnKqIv3eoDouV",
      "include_colab_link": true
    },
    "kernelspec": {
      "name": "python3",
      "display_name": "Python 3"
    },
    "accelerator": "GPU"
  },
  "cells": [
    {
      "cell_type": "markdown",
      "metadata": {
        "id": "view-in-github",
        "colab_type": "text"
      },
      "source": [
        "<a href=\"https://colab.research.google.com/github/Yoshibansal/ML-basics/blob/main/MNIST.ipynb\" target=\"_parent\"><img src=\"https://colab.research.google.com/assets/colab-badge.svg\" alt=\"Open In Colab\"/></a>"
      ]
    },
    {
      "cell_type": "markdown",
      "metadata": {
        "id": "circruclW7cz"
      },
      "source": [
        "MNIST (Multi class classifier) (using CNN)"
      ]
    },
    {
      "cell_type": "markdown",
      "metadata": {
        "id": "J8dfFa8oWy47"
      },
      "source": [
        "Learned how to do classificaiton using MNIST, a data set containing items of handwriting -- the digits 0 through 9.\n",
        "\n",
        "Each example is a 28x28 grayscale image, associated with a label from 10 classes. The MNIST database contains 60,000 training images and 10,000 testing images"
      ]
    },
    {
      "cell_type": "code",
      "metadata": {
        "colab": {
          "base_uri": "https://localhost:8080/"
        },
        "id": "G4mVQgTrQoES",
        "outputId": "a37b3022-177a-45e6-b167-1e3cb912153d"
      },
      "source": [
        "#importing tesnorflow\n",
        "\n",
        "import tensorflow as tf\n",
        "print(tf.__version__)"
      ],
      "execution_count": 1,
      "outputs": [
        {
          "output_type": "stream",
          "text": [
            "2.3.0\n"
          ],
          "name": "stdout"
        }
      ]
    },
    {
      "cell_type": "code",
      "metadata": {
        "id": "jFNTw_PQQrtY"
      },
      "source": [
        "#load module fashion_mnist from tensorflow\n",
        "mnist = tf.keras.datasets.mnist"
      ],
      "execution_count": 2,
      "outputs": []
    },
    {
      "cell_type": "code",
      "metadata": {
        "id": "mmti3uWvRH_D"
      },
      "source": [
        "#loading data\n",
        "(training_images, training_labels), (test_images, test_labels) = mnist.load_data()"
      ],
      "execution_count": 3,
      "outputs": []
    },
    {
      "cell_type": "code",
      "metadata": {
        "colab": {
          "base_uri": "https://localhost:8080/",
          "height": 282
        },
        "id": "t8CcaXI9RWG0",
        "outputId": "d85617e7-080e-42c2-e587-01ef2f75f74b"
      },
      "source": [
        "import matplotlib.pyplot as plt\n",
        "\n",
        "index = 0\n",
        "\n",
        "#plotting image corresponds to grid/matrix of pixel value at index\n",
        "plt.imshow(training_images[index])\n",
        "\n",
        "#label for matrix at index\n",
        "print(\"Training label: \", training_labels[index])\n",
        "\n",
        "#metrix\n",
        "#print(training_images[index])"
      ],
      "execution_count": 4,
      "outputs": [
        {
          "output_type": "stream",
          "text": [
            "Training label:  5\n"
          ],
          "name": "stdout"
        },
        {
          "output_type": "display_data",
          "data": {
            "image/png": "[encoded data removed]",
            "text/plain": [
              "<Figure size 432x288 with 1 Axes>"
            ]
          },
          "metadata": {
            "tags": [],
            "needs_background": "light"
          }
        }
      ]
    },
    {
      "cell_type": "code",
      "metadata": {
        "id": "sdJ7iNP1Ro5Q"
      },
      "source": [
        "# normalizing data\n",
        "training_images = training_images/255.0\n",
        "test_images = test_images/255.0\n",
        "\n",
        "#reshaping data\n",
        "training_images = training_images.reshape(60000, 28, 28, 1)\n",
        "test_images = test_images.reshape(10000, 28, 28, 1)"
      ],
      "execution_count": 5,
      "outputs": []
    },
    {
      "cell_type": "code",
      "metadata": {
        "id": "vchRpzALSPoa"
      },
      "source": [
        "INPUT_SHAPE = (28, 28, 1)\n",
        "\n",
        "#model architecture\n",
        "\n",
        "#change the number of layers in the model, will increase depth therefore increase accuracy\n",
        "model = tf.keras.Sequential([\n",
        "                             #Convolution layer (CNN)\n",
        "                             tf.keras.layers.Conv2D(filters=64, kernel_size=(3,3), activation='relu', input_shape=INPUT_SHAPE),\n",
        "                             #MaxPooling layer\n",
        "                             tf.keras.layers.MaxPool2D(pool_size=(2,2)),\n",
        "                             tf.keras.layers.Flatten(),\n",
        "                             tf.keras.layers.Dense(128, activation = tf.nn.relu),\n",
        "                             tf.keras.layers.Dense(10, activation = tf.nn.softmax)\n",
        "])\n",
        "\n",
        "model.compile(\n",
        "              optimizer = 'adam', \n",
        "              loss = 'sparse_categorical_crossentropy',\n",
        "              metrics = ['accuracy']\n",
        "    )"
      ],
      "execution_count": 6,
      "outputs": []
    },
    {
      "cell_type": "code",
      "metadata": {
        "colab": {
          "base_uri": "https://localhost:8080/"
        },
        "id": "AoUmPh7SUYo0",
        "outputId": "ae8a81e3-d530-4e95-9996-d5644aa53239"
      },
      "source": [
        "# Summary method allows you to inspect the layers of the model \n",
        "        # and see the journey of the model through the convolution\n",
        "model.summary()"
      ],
      "execution_count": 7,
      "outputs": [
        {
          "output_type": "stream",
          "text": [
            "Model: \"sequential\"\n",
            "_________________________________________________________________\n",
            "Layer (type)                 Output Shape              Param #   \n",
            "=================================================================\n",
            "conv2d (Conv2D)              (None, 26, 26, 64)        640       \n",
            "_________________________________________________________________\n",
            "max_pooling2d (MaxPooling2D) (None, 13, 13, 64)        0         \n",
            "_________________________________________________________________\n",
            "flatten (Flatten)            (None, 10816)             0         \n",
            "_________________________________________________________________\n",
            "dense (Dense)                (None, 128)               1384576   \n",
            "_________________________________________________________________\n",
            "dense_1 (Dense)              (None, 10)                1290      \n",
            "=================================================================\n",
            "Total params: 1,386,506\n",
            "Trainable params: 1,386,506\n",
            "Non-trainable params: 0\n",
            "_________________________________________________________________\n"
          ],
          "name": "stdout"
        }
      ]
    },
    {
      "cell_type": "code",
      "metadata": {
        "id": "f592LNgod6Es"
      },
      "source": [
        "#stop training when reached a desired value\n",
        "\n",
        "class myCallback(tf.keras.callbacks.Callback):\n",
        "  def on_epoch_end(self, epoch, logs={}):   #logs contains lots of information about current training\n",
        "    if(logs.get('accuracy') > 0.99):    #check for accuracy..... you can do same for loss (keyword:- 'loss')\n",
        "      print(\"\\n\\nReached 99% accuracy!!!\\n\")\n",
        "      self.model.stop_training = True"
      ],
      "execution_count": 8,
      "outputs": []
    },
    {
      "cell_type": "code",
      "metadata": {
        "colab": {
          "base_uri": "https://localhost:8080/"
        },
        "id": "zN-SXEX6TYgv",
        "outputId": "24b6f2b3-112c-4448-a0a1-8fe1b501e60f"
      },
      "source": [
        "#training model\n",
        "\n",
        "callbacks = myCallback() #instance of class myCallback\n",
        "epoch = 15 #hyperparameter\n",
        "\n",
        "history = model.fit(training_images, training_labels, epochs=epoch, callbacks=[callbacks])\n",
        "#this will take 2-5 minutes"
      ],
      "execution_count": 9,
      "outputs": [
        {
          "output_type": "stream",
          "text": [
            "Epoch 1/15\n",
            "1875/1875 [==============================] - 4s 2ms/step - loss: 0.1335 - accuracy: 0.9592\n",
            "Epoch 2/15\n",
            "1875/1875 [==============================] - 4s 2ms/step - loss: 0.0474 - accuracy: 0.9856\n",
            "Epoch 3/15\n",
            "1870/1875 [============================>.] - ETA: 0s - loss: 0.0290 - accuracy: 0.9908\n",
            "\n",
            "Reached 99% accuracy!!!\n",
            "\n",
            "1875/1875 [==============================] - 4s 2ms/step - loss: 0.0289 - accuracy: 0.9908\n"
          ],
          "name": "stdout"
        }
      ]
    },
    {
      "cell_type": "code",
      "metadata": {
        "colab": {
          "base_uri": "https://localhost:8080/"
        },
        "id": "rZFkE3r5Tkm_",
        "outputId": "ade13c06-73fd-4c0b-eebe-57dc84dc28d0"
      },
      "source": [
        "#evaluating the model on test data\n",
        "\n",
        "test_loss, test_acc = model.evaluate(test_images, test_labels)\n",
        "\n",
        "#printing the loss and accuracy of trained model on test dataset\n",
        "print(\"loss on test data: \", test_loss)\n",
        "print('accuracy on test data: ', test_acc)"
      ],
      "execution_count": 10,
      "outputs": [
        {
          "output_type": "stream",
          "text": [
            "313/313 [==============================] - 1s 2ms/step - loss: 0.0421 - accuracy: 0.9858\n",
            "loss on test data:  0.0421198345720768\n",
            "accuracy on test data:  0.98580002784729\n"
          ],
          "name": "stdout"
        }
      ]
    },
    {
      "cell_type": "code",
      "metadata": {
        "id": "eJymCfnQazWK"
      },
      "source": [
        ""
      ],
      "execution_count": 10,
      "outputs": []
    },
    {
      "cell_type": "markdown",
      "metadata": {
        "id": "dY4o3mnVhlrw"
      },
      "source": [
        "##PLOT loss and accuracy"
      ]
    },
    {
      "cell_type": "code",
      "metadata": {
        "colab": {
          "base_uri": "https://localhost:8080/"
        },
        "id": "9XE7zfkhj550",
        "outputId": "7caab5d6-3374-4d39-d79c-59bc7e8d3e90"
      },
      "source": [
        "history_dict = history.history\n",
        "print(history_dict.keys())"
      ],
      "execution_count": 11,
      "outputs": [
        {
          "output_type": "stream",
          "text": [
            "dict_keys(['loss', 'accuracy'])\n"
          ],
          "name": "stdout"
        }
      ]
    },
    {
      "cell_type": "code",
      "metadata": {
        "colab": {
          "base_uri": "https://localhost:8080/",
          "height": 579
        },
        "id": "rYJkgFqmhjNX",
        "outputId": "bf71780d-a560-4374-8bae-df197b798c45"
      },
      "source": [
        "%matplotlib inline\n",
        "\n",
        "import matplotlib.image as mping\n",
        "import matplotlib.pyplot as plt\n",
        "\n",
        "acc = history.history['accuracy']\n",
        "loss = history.history['loss']\n",
        "\n",
        "epochs = range(len(acc))\n",
        "\n",
        "#plot training and validation accuracy per epoch\n",
        "plt.plot(epochs, acc, 'r', label=\"Training accuracy\")\n",
        "plt.title('Training accuracy')\n",
        "plt.figure()\n",
        "\n",
        "#plot training and validation loss per epoch\n",
        "plt.plot(epochs, loss, 'r', label=\"Training loss\")\n",
        "plt.title('Training loss')\n",
        "plt.figure()"
      ],
      "execution_count": 12,
      "outputs": [
        {
          "output_type": "execute_result",
          "data": {
            "text/plain": [
              "<Figure size 432x288 with 0 Axes>"
            ]
          },
          "metadata": {
            "tags": []
          },
          "execution_count": 12
        },
        {
          "output_type": "display_data",
          "data": {
            "image/png": "[encoded data removed]",
            "text/plain": [
              "<Figure size 432x288 with 1 Axes>"
            ]
          },
          "metadata": {
            "tags": [],
            "needs_background": "light"
          }
        },
        {
          "output_type": "display_data",
          "data": {
            "image/png": "[encoded data removed]",
            "text/plain": [
              "<Figure size 432x288 with 1 Axes>"
            ]
          },
          "metadata": {
            "tags": [],
            "needs_background": "light"
          }
        },
        {
          "output_type": "display_data",
          "data": {
            "text/plain": [
              "<Figure size 432x288 with 0 Axes>"
            ]
          },
          "metadata": {
            "tags": []
          }
        }
      ]
    },
    {
      "cell_type": "code",
      "metadata": {
        "id": "SjVk4FRojhHf"
      },
      "source": [
        ""
      ],
      "execution_count": 12,
      "outputs": []
    },
    {
      "cell_type": "markdown",
      "metadata": {
        "id": "4wzkog17cvAz"
      },
      "source": [
        "You can skip the following part"
      ]
    },
    {
      "cell_type": "markdown",
      "metadata": {
        "id": "sMbzg1ZvVdwe"
      },
      "source": [
        "#Visualizing the convolutions and pooling\n",
        "\n",
        "The keras API gives us each convolution, each pooling, each dense etc as a layer. So with the layers API we can take a look at each layer's outputs. So we will create a list of each layer's output. "
      ]
    },
    {
      "cell_type": "code",
      "metadata": {
        "colab": {
          "base_uri": "https://localhost:8080/"
        },
        "id": "2H6x0p70WI7Y",
        "outputId": "25eb541e-07b4-46f2-839a-e2d30a200742"
      },
      "source": [
        "print(test_labels[:100])"
      ],
      "execution_count": 13,
      "outputs": [
        {
          "output_type": "stream",
          "text": [
            "[7 2 1 0 4 1 4 9 5 9 0 6 9 0 1 5 9 7 3 4 9 6 6 5 4 0 7 4 0 1 3 1 3 4 7 2 7\n",
            " 1 2 1 1 7 4 2 3 5 1 2 4 4 6 3 5 5 6 0 4 1 9 5 7 8 9 3 7 4 6 4 3 0 7 0 2 9\n",
            " 1 7 3 2 9 7 7 6 2 7 8 4 7 3 6 1 3 6 9 3 1 4 1 7 6 9]\n"
          ],
          "name": "stdout"
        }
      ]
    },
    {
      "cell_type": "code",
      "metadata": {
        "colab": {
          "base_uri": "https://localhost:8080/",
          "height": 430
        },
        "id": "4YfoY_btWSPX",
        "outputId": "04c8813d-c131-4c01-b3ba-38132caf7c8b"
      },
      "source": [
        "import matplotlib.pyplot as plt\n",
        "\n",
        "f, axarr = plt.subplots(3, 2, figsize=(6, 7))\n",
        "\n",
        "#taking images of 7\n",
        "FIRST_IMAGE = 0\n",
        "SECOND_IMAGE = 17\n",
        "THIRD_IMAGE = 26\n",
        "\n",
        "CONVOLUTION_NUMBER = 1  #channel\n",
        "\n",
        "from tensorflow.keras import models\n",
        "\n",
        "layer_outputs = [layer.output for layer in model.layers]\n",
        "activation_model = tf.keras.models.Model(inputs = model.input, outputs = layer_outputs)\n",
        "for x in range(0,2):\n",
        "  f1 = activation_model.predict(test_images[FIRST_IMAGE].reshape(1, 28, 28, 1))[x]\n",
        "  axarr[0,x].imshow(f1[0, :, :, CONVOLUTION_NUMBER], cmap='inferno')\n",
        "  axarr[0,x].grid(False)\n",
        "  \n",
        "  f2 = activation_model.predict(test_images[SECOND_IMAGE].reshape(1, 28, 28, 1))[x]\n",
        "  axarr[1,x].imshow(f2[0, : , :, CONVOLUTION_NUMBER], cmap='inferno')\n",
        "  axarr[1,x].grid(False)\n",
        "  \n",
        "  f3 = activation_model.predict(test_images[THIRD_IMAGE].reshape(1, 28, 28, 1))[x]\n",
        "  axarr[2,x].imshow(f3[0, : , :, CONVOLUTION_NUMBER], cmap='inferno')\n",
        "  axarr[2,x].grid(False)"
      ],
      "execution_count": 14,
      "outputs": [
        {
          "output_type": "display_data",
          "data": {
            "image/png": "[encoded data removed]",
            "text/plain": [
              "<Figure size 432x504 with 6 Axes>"
            ]
          },
          "metadata": {
            "tags": [],
            "needs_background": "light"
          }
        }
      ]
    },
    {
      "cell_type": "code",
      "metadata": {
        "id": "3orQKuhkXF6A"
      },
      "source": [
        ""
      ],
      "execution_count": 14,
      "outputs": []
    }
  ]
}