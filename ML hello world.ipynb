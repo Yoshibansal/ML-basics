{
  "nbformat": 4,
  "nbformat_minor": 0,
  "metadata": {
    "colab": {
      "name": "Keras_hello_world.ipynb",
      "provenance": [],
      "collapsed_sections": [],
      "authorship_tag": "ABX9TyNRndXeeA/0snUuezqhSIeO",
      "include_colab_link": true
    },
    "kernelspec": {
      "name": "python3",
      "display_name": "Python 3"
    }
  },
  "cells": [
    {
      "cell_type": "markdown",
      "metadata": {
        "id": "view-in-github",
        "colab_type": "text"
      },
      "source": [
        "<a href=\"https://colab.research.google.com/github/Yoshibansal/ML-basics/blob/main/ML%20hello%20world.ipynb\" target=\"_parent\"><img src=\"https://colab.research.google.com/assets/colab-badge.svg\" alt=\"Open In Colab\"/></a>"
      ]
    },
    {
      "cell_type": "markdown",
      "metadata": {
        "id": "Wvgt9FTvIgou"
      },
      "source": [
        "Machine Learning -> Hello World\n",
        "\n",
        "Single neuron neuron network"
      ]
    },
    {
      "cell_type": "code",
      "metadata": {
        "id": "swSOv2us_av_"
      },
      "source": [
        "#importing libraries\n",
        "\n",
        "import numpy as np\n",
        "import keras\n",
        "from keras import layers"
      ],
      "execution_count": 2,
      "outputs": []
    },
    {
      "cell_type": "code",
      "metadata": {
        "id": "yTUul18n_iFx"
      },
      "source": [
        "#model architecture \n",
        "\n",
        "model = keras.Sequential([layers.Dense(units = 1,input_shape=[1])])  \n",
        "#sequential -> layers are in sequence\n",
        "#Dense -> all neurons are connected to all neurons in there adjecent layers\n",
        "#units -> number of neurons (In this case we have single layer and just one neuron)\n",
        "#input_shape -> shape of input that layer accept\n",
        "\n",
        "model.compile(optimizer = 'sgd', loss='mean_squared_error')\n",
        "#compile -> compiles the model\n",
        "#loss -> calculate the error based on algorithm; in this case -> mean_squared_error\n",
        "#optimizer -> optimize loss using algo (sgd) or in simple terms -> make other guess "
      ],
      "execution_count": 3,
      "outputs": []
    },
    {
      "cell_type": "code",
      "metadata": {
        "id": "H3AQ2BI1_rR-"
      },
      "source": [
        "#Training data \n",
        "\n",
        "#xs -> input data\n",
        "xs = np.array([-1., 0., 1., 2., 3., 4., 5.], dtype = float)\n",
        "\n",
        "#ys -> target value\n",
        "ys = np.array([-3.0, -1.0, 1.0, 3.0, 5.0, 7.0, 9.0], dtype = float)\n",
        "\n",
        "#We want machine to learn a relation between xs and ys"
      ],
      "execution_count": 7,
      "outputs": []
    },
    {
      "cell_type": "code",
      "metadata": {
        "id": "Gn-8Mxs4_uGd"
      },
      "source": [
        "#fit the data into the model \n",
        "#Training of the neural network\n",
        "\n",
        "epoch = 50  #try 500\n",
        "model.fit(xs, ys, epochs = epoch)\n",
        "\n",
        "#change value of epoch and observe the changes in final output (accuracy of model)"
      ],
      "execution_count": null,
      "outputs": []
    },
    {
      "cell_type": "code",
      "metadata": {
        "colab": {
          "base_uri": "https://localhost:8080/"
        },
        "id": "wTIuoKL0_xyO",
        "outputId": "b46dc77e-0002-4fed-a888-39a2a6e20c04"
      },
      "source": [
        "#predict on new values using the trained model\n",
        "#value that model havn't previously seen\n",
        "\n",
        "X = 9.0\n",
        "\n",
        "y_hat = model.predict([X])\n",
        "print(y_hat)"
      ],
      "execution_count": 6,
      "outputs": [
        {
          "output_type": "stream",
          "text": [
            "[[16.984577]]\n"
          ],
          "name": "stdout"
        }
      ]
    },
    {
      "cell_type": "markdown",
      "metadata": {
        "id": "eg02o2m9AuC6"
      },
      "source": [
        "Here the realationship between xs and ys is: ys = 2*xs - 1\n",
        "\n",
        "Therefore our prediction is quite good, that means our model is able to found the relation."
      ]
    },
    {
      "cell_type": "code",
      "metadata": {
        "id": "oWKbV93A_5Ei"
      },
      "source": [
        ""
      ],
      "execution_count": null,
      "outputs": []
    }
  ]
}