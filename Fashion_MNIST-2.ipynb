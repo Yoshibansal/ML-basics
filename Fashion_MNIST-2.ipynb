{
  "nbformat": 4,
  "nbformat_minor": 0,
  "metadata": {
    "colab": {
      "name": "Fashion MNIST-2.ipynb",
      "provenance": [],
      "collapsed_sections": [],
      "authorship_tag": "ABX9TyMEEr3vfo1ZXN1uz8BR/OzM",
      "include_colab_link": true
    },
    "kernelspec": {
      "name": "python3",
      "display_name": "Python 3"
    }
  },
  "cells": [
    {
      "cell_type": "markdown",
      "metadata": {
        "id": "view-in-github",
        "colab_type": "text"
      },
      "source": [
        "<a href=\"https://colab.research.google.com/github/Yoshibansal/ML-basics/blob/main/Fashion_MNIST-2.ipynb\" target=\"_parent\"><img src=\"https://colab.research.google.com/assets/colab-badge.svg\" alt=\"Open In Colab\"/></a>"
      ]
    },
    {
      "cell_type": "markdown",
      "metadata": {
        "id": "circruclW7cz"
      },
      "source": [
        "Fashion MNIST (Multi class classifier) (part 2)"
      ]
    },
    {
      "cell_type": "markdown",
      "metadata": {
        "id": "J8dfFa8oWy47"
      },
      "source": [
        "Learned how to do classificaiton using Fashion MNIST, a data set containing items of clothing. There's another, similar dataset called MNIST which has items of handwriting -- the digits 0 through 9.\n",
        "\n",
        "Each example is a 28x28 grayscale image, associated with a label from 10 classes."
      ]
    },
    {
      "cell_type": "code",
      "metadata": {
        "colab": {
          "base_uri": "https://localhost:8080/"
        },
        "id": "G4mVQgTrQoES",
        "outputId": "6aec0e89-d85d-496b-dc5b-95946aa15519"
      },
      "source": [
        "#importing tesnorflow\n",
        "\n",
        "import tensorflow as tf\n",
        "print(tf.__version__)"
      ],
      "execution_count": 1,
      "outputs": [
        {
          "output_type": "stream",
          "text": [
            "2.3.0\n"
          ],
          "name": "stdout"
        }
      ]
    },
    {
      "cell_type": "code",
      "metadata": {
        "id": "jFNTw_PQQrtY"
      },
      "source": [
        "#load module fashion_mnist from tensorflow\n",
        "mnist = tf.keras.datasets.fashion_mnist"
      ],
      "execution_count": 2,
      "outputs": []
    },
    {
      "cell_type": "code",
      "metadata": {
        "id": "mmti3uWvRH_D"
      },
      "source": [
        "#loading data\n",
        "(training_images, training_labels), (test_images, test_labels) = mnist.load_data()"
      ],
      "execution_count": 3,
      "outputs": []
    },
    {
      "cell_type": "code",
      "metadata": {
        "colab": {
          "base_uri": "https://localhost:8080/",
          "height": 282
        },
        "id": "t8CcaXI9RWG0",
        "outputId": "bb3a02b6-4818-4cc3-c779-8b82f6444beb"
      },
      "source": [
        "import matplotlib.pyplot as plt\n",
        "\n",
        "index = 0\n",
        "\n",
        "#plotting image corresponds to grid/matrix of pixel value at index\n",
        "plt.imshow(training_images[index])\n",
        "\n",
        "#label for matrix at index\n",
        "print(\"Training label: \", training_labels[index])\n",
        "\n",
        "#metrix\n",
        "#print(training_images[index])"
      ],
      "execution_count": 4,
      "outputs": [
        {
          "output_type": "stream",
          "text": [
            "Training label:  9\n"
          ],
          "name": "stdout"
        },
        {
          "output_type": "display_data",
          "data": {
            "image/png": "[encoded data removed]",
            "text/plain": [
              "<Figure size 432x288 with 1 Axes>"
            ]
          },
          "metadata": {
            "tags": [],
            "needs_background": "light"
          }
        }
      ]
    },
    {
      "cell_type": "code",
      "metadata": {
        "id": "sdJ7iNP1Ro5Q"
      },
      "source": [
        "# normalizing data\n",
        "\n",
        "training_images = training_images/255.0\n",
        "test_images = test_images/255.0"
      ],
      "execution_count": 5,
      "outputs": []
    },
    {
      "cell_type": "code",
      "metadata": {
        "id": "vchRpzALSPoa"
      },
      "source": [
        "INPUT_SHAPE = (28, 28)\n",
        "\n",
        "#model architecture\n",
        "\n",
        "#change the number of layers in the model, will increase depth therefore increase accuracy\n",
        "model = tf.keras.Sequential([\n",
        "                             tf.keras.layers.Flatten(input_shape = INPUT_SHAPE),\n",
        "                             tf.keras.layers.Dense(128, activation = tf.nn.relu),\n",
        "                             #tf.keras.layers.Dense(128, activation = tf.nn.relu),\n",
        "                             tf.keras.layers.Dense(10, activation = tf.nn.softmax)\n",
        "])\n",
        "\n",
        "model.compile(\n",
        "              optimizer = 'adam', \n",
        "              loss = 'sparse_categorical_crossentropy',\n",
        "              metrics = ['accuracy']\n",
        "    )"
      ],
      "execution_count": 6,
      "outputs": []
    },
    {
      "cell_type": "code",
      "metadata": {
        "colab": {
          "base_uri": "https://localhost:8080/"
        },
        "id": "AoUmPh7SUYo0",
        "outputId": "19d688df-c278-480f-e898-08de0358f688"
      },
      "source": [
        "# Summary method allows you to inspect the layers of the model \n",
        "        # and see the journey of the model through the convolution\n",
        "model.summary()"
      ],
      "execution_count": 7,
      "outputs": [
        {
          "output_type": "stream",
          "text": [
            "Model: \"sequential\"\n",
            "_________________________________________________________________\n",
            "Layer (type)                 Output Shape              Param #   \n",
            "=================================================================\n",
            "flatten (Flatten)            (None, 784)               0         \n",
            "_________________________________________________________________\n",
            "dense (Dense)                (None, 128)               100480    \n",
            "_________________________________________________________________\n",
            "dense_1 (Dense)              (None, 10)                1290      \n",
            "=================================================================\n",
            "Total params: 101,770\n",
            "Trainable params: 101,770\n",
            "Non-trainable params: 0\n",
            "_________________________________________________________________\n"
          ],
          "name": "stdout"
        }
      ]
    },
    {
      "cell_type": "code",
      "metadata": {
        "id": "f592LNgod6Es"
      },
      "source": [
        "#stop training when reached a desired value\n",
        "\n",
        "class myCallback(tf.keras.callbacks.Callback):\n",
        "  def on_epoch_end(self, epoch, logs={}):   #logs contains lots of information about current training\n",
        "    if(logs.get('accuracy') > 0.92):    #check for accuracy..... you can do same for loss (keyword:- 'loss')\n",
        "      print(\"\\n\\nReached 92% accuracy!!!\\n\")\n",
        "      self.model.stop_training = True"
      ],
      "execution_count": 8,
      "outputs": []
    },
    {
      "cell_type": "code",
      "metadata": {
        "colab": {
          "base_uri": "https://localhost:8080/"
        },
        "id": "zN-SXEX6TYgv",
        "outputId": "6f990c3e-33a8-48ef-9987-c9514d19f61d"
      },
      "source": [
        "#training model\n",
        "\n",
        "callbacks = myCallback() #instance of class myCallback\n",
        "epoch = 15 #hyperparameter\n",
        "\n",
        "history = model.fit(training_images, training_labels, epochs=epoch, callbacks=[callbacks])"
      ],
      "execution_count": 9,
      "outputs": [
        {
          "output_type": "stream",
          "text": [
            "Epoch 1/15\n",
            "1875/1875 [==============================] - 3s 2ms/step - loss: 0.4993 - accuracy: 0.8228\n",
            "Epoch 2/15\n",
            "1875/1875 [==============================] - 3s 2ms/step - loss: 0.3728 - accuracy: 0.8666\n",
            "Epoch 3/15\n",
            "1875/1875 [==============================] - 3s 2ms/step - loss: 0.3344 - accuracy: 0.8792\n",
            "Epoch 4/15\n",
            "1875/1875 [==============================] - 3s 2ms/step - loss: 0.3121 - accuracy: 0.8858\n",
            "Epoch 5/15\n",
            "1875/1875 [==============================] - 3s 2ms/step - loss: 0.2929 - accuracy: 0.8914\n",
            "Epoch 6/15\n",
            "1875/1875 [==============================] - 3s 2ms/step - loss: 0.2785 - accuracy: 0.8963\n",
            "Epoch 7/15\n",
            "1875/1875 [==============================] - 3s 2ms/step - loss: 0.2676 - accuracy: 0.9003\n",
            "Epoch 8/15\n",
            "1875/1875 [==============================] - 3s 2ms/step - loss: 0.2569 - accuracy: 0.9046\n",
            "Epoch 9/15\n",
            "1875/1875 [==============================] - 3s 2ms/step - loss: 0.2448 - accuracy: 0.9086\n",
            "Epoch 10/15\n",
            "1875/1875 [==============================] - 3s 2ms/step - loss: 0.2386 - accuracy: 0.9099\n",
            "Epoch 11/15\n",
            "1875/1875 [==============================] - 3s 2ms/step - loss: 0.2288 - accuracy: 0.9144\n",
            "Epoch 12/15\n",
            "1875/1875 [==============================] - 3s 2ms/step - loss: 0.2220 - accuracy: 0.9168\n",
            "Epoch 13/15\n",
            "1875/1875 [==============================] - 3s 2ms/step - loss: 0.2140 - accuracy: 0.9195\n",
            "Epoch 14/15\n",
            "1858/1875 [============================>.] - ETA: 0s - loss: 0.2090 - accuracy: 0.9211\n",
            "\n",
            "Reached 92% accuracy!!!\n",
            "\n",
            "1875/1875 [==============================] - 3s 2ms/step - loss: 0.2089 - accuracy: 0.9212\n"
          ],
          "name": "stdout"
        }
      ]
    },
    {
      "cell_type": "code",
      "metadata": {
        "colab": {
          "base_uri": "https://localhost:8080/"
        },
        "id": "rZFkE3r5Tkm_",
        "outputId": "90aaf5c6-6c18-47ee-923f-ead7ed129687"
      },
      "source": [
        "#evaluating the model on test data\n",
        "\n",
        "test_loss, test_acc = model.evaluate(test_images, test_labels)\n",
        "\n",
        "#printing the loss and accuracy of trained model on test dataset\n",
        "print(\"loss on test data: \", test_loss)\n",
        "print('accuracy on test data: ', test_acc)"
      ],
      "execution_count": 10,
      "outputs": [
        {
          "output_type": "stream",
          "text": [
            "313/313 [==============================] - 0s 1ms/step - loss: 0.3447 - accuracy: 0.8835\n",
            "loss on test data:  0.3446957468986511\n",
            "accuracy on test data:  0.8834999799728394\n"
          ],
          "name": "stdout"
        }
      ]
    },
    {
      "cell_type": "code",
      "metadata": {
        "id": "eJymCfnQazWK"
      },
      "source": [
        ""
      ],
      "execution_count": 10,
      "outputs": []
    },
    {
      "cell_type": "markdown",
      "metadata": {
        "id": "dY4o3mnVhlrw"
      },
      "source": [
        "##PLOT loss and accuracy"
      ]
    },
    {
      "cell_type": "code",
      "metadata": {
        "colab": {
          "base_uri": "https://localhost:8080/"
        },
        "id": "9XE7zfkhj550",
        "outputId": "4a0d178c-a8db-4da9-c776-598e96d6ee63"
      },
      "source": [
        "history_dict = history.history\n",
        "print(history_dict.keys())"
      ],
      "execution_count": 11,
      "outputs": [
        {
          "output_type": "stream",
          "text": [
            "dict_keys(['loss', 'accuracy'])\n"
          ],
          "name": "stdout"
        }
      ]
    },
    {
      "cell_type": "code",
      "metadata": {
        "colab": {
          "base_uri": "https://localhost:8080/",
          "height": 579
        },
        "id": "rYJkgFqmhjNX",
        "outputId": "6d98fe7c-a8e5-445f-cbf5-96ad5e478fa5"
      },
      "source": [
        "%matplotlib inline\n",
        "\n",
        "import matplotlib.image as mping\n",
        "import matplotlib.pyplot as plt\n",
        "\n",
        "acc = history.history['accuracy']\n",
        "loss = history.history['loss']\n",
        "\n",
        "epochs = range(len(acc))\n",
        "\n",
        "#plot training and validation accuracy per epoch\n",
        "plt.plot(epochs, acc, 'r', label=\"Training accuracy\")\n",
        "plt.title('Training accuracy')\n",
        "plt.figure()\n",
        "\n",
        "#plot training and validation loss per epoch\n",
        "plt.plot(epochs, loss, 'r', label=\"Training loss\")\n",
        "plt.title('Training loss')\n",
        "plt.figure()"
      ],
      "execution_count": 12,
      "outputs": [
        {
          "output_type": "execute_result",
          "data": {
            "text/plain": [
              "<Figure size 432x288 with 0 Axes>"
            ]
          },
          "metadata": {
            "tags": []
          },
          "execution_count": 12
        },
        {
          "output_type": "display_data",
          "data": {
            "image/png": "[encoded data removed]",
            "text/plain": [
              "<Figure size 432x288 with 1 Axes>"
            ]
          },
          "metadata": {
            "tags": [],
            "needs_background": "light"
          }
        },
        {
          "output_type": "display_data",
          "data": {
            "image/png": "[encoded data removed]",
            "text/plain": [
              "<Figure size 432x288 with 1 Axes>"
            ]
          },
          "metadata": {
            "tags": [],
            "needs_background": "light"
          }
        },
        {
          "output_type": "display_data",
          "data": {
            "text/plain": [
              "<Figure size 432x288 with 0 Axes>"
            ]
          },
          "metadata": {
            "tags": []
          }
        }
      ]
    },
    {
      "cell_type": "code",
      "metadata": {
        "id": "SjVk4FRojhHf"
      },
      "source": [
        ""
      ],
      "execution_count": 12,
      "outputs": []
    }
  ]
}